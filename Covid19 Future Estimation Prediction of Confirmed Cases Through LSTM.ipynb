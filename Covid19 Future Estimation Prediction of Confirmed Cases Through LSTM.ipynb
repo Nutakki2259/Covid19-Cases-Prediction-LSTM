{
 "cells": [
  {
   "cell_type": "markdown",
   "metadata": {},
   "source": [
    "# Covid19 Increase in Future  Confirm Cases Estimation using LSTM\n"
   ]
  },
  {
   "cell_type": "markdown",
   "metadata": {},
   "source": [
    "### In this project the estimation of increase in confirm cases cases in future days using LSTM can be predictied.\n"
   ]
  },
  {
   "cell_type": "markdown",
   "metadata": {},
   "source": [
    "The dataset of Covid19 confirmed cases from January to July 2020 are taken into consideration from the site https://data.humdata.org/dataset/novel-coronavirus-2019-ncov-cases available on daily update basis."
   ]
  },
  {
   "cell_type": "code",
   "execution_count": 1,
   "metadata": {},
   "outputs": [],
   "source": [
    "#import all the libraries that are needed\n",
    "import pandas as pd\n",
    "import numpy as np\n",
    "import torch\n",
    "import matplotlib.pyplot as plt\n",
    "from torch import nn\n",
    "from sklearn.preprocessing import MinMaxScaler"
   ]
  },
  {
   "cell_type": "code",
   "execution_count": 2,
   "metadata": {},
   "outputs": [],
   "source": [
    "#load your data file that was downloaded from the link mentioned above\n",
    "load_path = r'E:\\Github_Projecta\\COVID_19/'\n",
    "filename = 'time_series_covid19_confirmed_global.csv'\n",
    "\n",
    "data = pd.read_csv(load_path + filename)"
   ]
  },
  {
   "cell_type": "code",
   "execution_count": 3,
   "metadata": {},
   "outputs": [
    {
     "name": "stdout",
     "output_type": "stream",
     "text": [
      "<class 'pandas.core.frame.DataFrame'>\n",
      "RangeIndex: 266 entries, 0 to 265\n",
      "Columns: 179 entries, Province/State to 7/14/20\n",
      "dtypes: float64(2), int64(175), object(2)\n",
      "memory usage: 372.1+ KB\n"
     ]
    }
   ],
   "source": [
    "data.info() #data details"
   ]
  },
  {
   "cell_type": "code",
   "execution_count": 4,
   "metadata": {},
   "outputs": [
    {
     "data": {
      "text/html": [
       "<div>\n",
       "<style scoped>\n",
       "    .dataframe tbody tr th:only-of-type {\n",
       "        vertical-align: middle;\n",
       "    }\n",
       "\n",
       "    .dataframe tbody tr th {\n",
       "        vertical-align: top;\n",
       "    }\n",
       "\n",
       "    .dataframe thead th {\n",
       "        text-align: right;\n",
       "    }\n",
       "</style>\n",
       "<table border=\"1\" class=\"dataframe\">\n",
       "  <thead>\n",
       "    <tr style=\"text-align: right;\">\n",
       "      <th></th>\n",
       "      <th>Lat</th>\n",
       "      <th>Long</th>\n",
       "      <th>1/22/20</th>\n",
       "      <th>1/23/20</th>\n",
       "      <th>1/24/20</th>\n",
       "      <th>1/25/20</th>\n",
       "      <th>1/26/20</th>\n",
       "      <th>1/27/20</th>\n",
       "      <th>1/28/20</th>\n",
       "      <th>1/29/20</th>\n",
       "      <th>...</th>\n",
       "      <th>7/5/20</th>\n",
       "      <th>7/6/20</th>\n",
       "      <th>7/7/20</th>\n",
       "      <th>7/8/20</th>\n",
       "      <th>7/9/20</th>\n",
       "      <th>7/10/20</th>\n",
       "      <th>7/11/20</th>\n",
       "      <th>7/12/20</th>\n",
       "      <th>7/13/20</th>\n",
       "      <th>7/14/20</th>\n",
       "    </tr>\n",
       "  </thead>\n",
       "  <tbody>\n",
       "    <tr>\n",
       "      <th>count</th>\n",
       "      <td>266.000000</td>\n",
       "      <td>266.000000</td>\n",
       "      <td>266.000000</td>\n",
       "      <td>266.000000</td>\n",
       "      <td>266.000000</td>\n",
       "      <td>266.000000</td>\n",
       "      <td>266.000000</td>\n",
       "      <td>266.000000</td>\n",
       "      <td>266.000000</td>\n",
       "      <td>266.000000</td>\n",
       "      <td>...</td>\n",
       "      <td>2.660000e+02</td>\n",
       "      <td>2.660000e+02</td>\n",
       "      <td>2.660000e+02</td>\n",
       "      <td>2.660000e+02</td>\n",
       "      <td>2.660000e+02</td>\n",
       "      <td>2.660000e+02</td>\n",
       "      <td>2.660000e+02</td>\n",
       "      <td>2.660000e+02</td>\n",
       "      <td>2.660000e+02</td>\n",
       "      <td>2.660000e+02</td>\n",
       "    </tr>\n",
       "    <tr>\n",
       "      <th>mean</th>\n",
       "      <td>21.076624</td>\n",
       "      <td>22.829441</td>\n",
       "      <td>2.086466</td>\n",
       "      <td>2.458647</td>\n",
       "      <td>3.537594</td>\n",
       "      <td>5.390977</td>\n",
       "      <td>7.962406</td>\n",
       "      <td>11.003759</td>\n",
       "      <td>20.969925</td>\n",
       "      <td>23.180451</td>\n",
       "      <td>...</td>\n",
       "      <td>4.305337e+04</td>\n",
       "      <td>4.368457e+04</td>\n",
       "      <td>4.447219e+04</td>\n",
       "      <td>4.526872e+04</td>\n",
       "      <td>4.612225e+04</td>\n",
       "      <td>4.698672e+04</td>\n",
       "      <td>4.781168e+04</td>\n",
       "      <td>4.853518e+04</td>\n",
       "      <td>4.926463e+04</td>\n",
       "      <td>5.008846e+04</td>\n",
       "    </tr>\n",
       "    <tr>\n",
       "      <th>std</th>\n",
       "      <td>24.904600</td>\n",
       "      <td>70.191330</td>\n",
       "      <td>27.279200</td>\n",
       "      <td>27.377862</td>\n",
       "      <td>34.083035</td>\n",
       "      <td>47.434934</td>\n",
       "      <td>66.289178</td>\n",
       "      <td>89.313757</td>\n",
       "      <td>219.187744</td>\n",
       "      <td>220.524977</td>\n",
       "      <td>...</td>\n",
       "      <td>2.152661e+05</td>\n",
       "      <td>2.185190e+05</td>\n",
       "      <td>2.232169e+05</td>\n",
       "      <td>2.278585e+05</td>\n",
       "      <td>2.327247e+05</td>\n",
       "      <td>2.378347e+05</td>\n",
       "      <td>2.425360e+05</td>\n",
       "      <td>2.467222e+05</td>\n",
       "      <td>2.508038e+05</td>\n",
       "      <td>2.559022e+05</td>\n",
       "    </tr>\n",
       "    <tr>\n",
       "      <th>min</th>\n",
       "      <td>-51.796300</td>\n",
       "      <td>-135.000000</td>\n",
       "      <td>0.000000</td>\n",
       "      <td>0.000000</td>\n",
       "      <td>0.000000</td>\n",
       "      <td>0.000000</td>\n",
       "      <td>0.000000</td>\n",
       "      <td>0.000000</td>\n",
       "      <td>0.000000</td>\n",
       "      <td>0.000000</td>\n",
       "      <td>...</td>\n",
       "      <td>0.000000e+00</td>\n",
       "      <td>0.000000e+00</td>\n",
       "      <td>0.000000e+00</td>\n",
       "      <td>0.000000e+00</td>\n",
       "      <td>0.000000e+00</td>\n",
       "      <td>0.000000e+00</td>\n",
       "      <td>0.000000e+00</td>\n",
       "      <td>0.000000e+00</td>\n",
       "      <td>0.000000e+00</td>\n",
       "      <td>0.000000e+00</td>\n",
       "    </tr>\n",
       "    <tr>\n",
       "      <th>25%</th>\n",
       "      <td>6.677575</td>\n",
       "      <td>-15.277675</td>\n",
       "      <td>0.000000</td>\n",
       "      <td>0.000000</td>\n",
       "      <td>0.000000</td>\n",
       "      <td>0.000000</td>\n",
       "      <td>0.000000</td>\n",
       "      <td>0.000000</td>\n",
       "      <td>0.000000</td>\n",
       "      <td>0.000000</td>\n",
       "      <td>...</td>\n",
       "      <td>2.045000e+02</td>\n",
       "      <td>2.045000e+02</td>\n",
       "      <td>2.045000e+02</td>\n",
       "      <td>2.045000e+02</td>\n",
       "      <td>2.075000e+02</td>\n",
       "      <td>2.075000e+02</td>\n",
       "      <td>2.092500e+02</td>\n",
       "      <td>2.285000e+02</td>\n",
       "      <td>2.347500e+02</td>\n",
       "      <td>2.362500e+02</td>\n",
       "    </tr>\n",
       "    <tr>\n",
       "      <th>50%</th>\n",
       "      <td>22.820850</td>\n",
       "      <td>20.921188</td>\n",
       "      <td>0.000000</td>\n",
       "      <td>0.000000</td>\n",
       "      <td>0.000000</td>\n",
       "      <td>0.000000</td>\n",
       "      <td>0.000000</td>\n",
       "      <td>0.000000</td>\n",
       "      <td>0.000000</td>\n",
       "      <td>0.000000</td>\n",
       "      <td>...</td>\n",
       "      <td>1.232000e+03</td>\n",
       "      <td>1.234000e+03</td>\n",
       "      <td>1.237000e+03</td>\n",
       "      <td>1.268500e+03</td>\n",
       "      <td>1.280500e+03</td>\n",
       "      <td>1.280500e+03</td>\n",
       "      <td>1.344500e+03</td>\n",
       "      <td>1.364500e+03</td>\n",
       "      <td>1.383500e+03</td>\n",
       "      <td>1.425000e+03</td>\n",
       "    </tr>\n",
       "    <tr>\n",
       "      <th>75%</th>\n",
       "      <td>41.143200</td>\n",
       "      <td>77.913685</td>\n",
       "      <td>0.000000</td>\n",
       "      <td>0.000000</td>\n",
       "      <td>0.000000</td>\n",
       "      <td>0.000000</td>\n",
       "      <td>0.000000</td>\n",
       "      <td>0.000000</td>\n",
       "      <td>0.000000</td>\n",
       "      <td>0.000000</td>\n",
       "      <td>...</td>\n",
       "      <td>1.207925e+04</td>\n",
       "      <td>1.216600e+04</td>\n",
       "      <td>1.231225e+04</td>\n",
       "      <td>1.248650e+04</td>\n",
       "      <td>1.262450e+04</td>\n",
       "      <td>1.272250e+04</td>\n",
       "      <td>1.283775e+04</td>\n",
       "      <td>1.298425e+04</td>\n",
       "      <td>1.318775e+04</td>\n",
       "      <td>1.327100e+04</td>\n",
       "    </tr>\n",
       "    <tr>\n",
       "      <th>max</th>\n",
       "      <td>71.706900</td>\n",
       "      <td>178.065000</td>\n",
       "      <td>444.000000</td>\n",
       "      <td>444.000000</td>\n",
       "      <td>549.000000</td>\n",
       "      <td>761.000000</td>\n",
       "      <td>1058.000000</td>\n",
       "      <td>1423.000000</td>\n",
       "      <td>3554.000000</td>\n",
       "      <td>3554.000000</td>\n",
       "      <td>...</td>\n",
       "      <td>2.891124e+06</td>\n",
       "      <td>2.936077e+06</td>\n",
       "      <td>2.996098e+06</td>\n",
       "      <td>3.054699e+06</td>\n",
       "      <td>3.117946e+06</td>\n",
       "      <td>3.184573e+06</td>\n",
       "      <td>3.245925e+06</td>\n",
       "      <td>3.304942e+06</td>\n",
       "      <td>3.364157e+06</td>\n",
       "      <td>3.431574e+06</td>\n",
       "    </tr>\n",
       "  </tbody>\n",
       "</table>\n",
       "<p>8 rows × 177 columns</p>\n",
       "</div>"
      ],
      "text/plain": [
       "              Lat        Long     1/22/20     1/23/20     1/24/20     1/25/20  \\\n",
       "count  266.000000  266.000000  266.000000  266.000000  266.000000  266.000000   \n",
       "mean    21.076624   22.829441    2.086466    2.458647    3.537594    5.390977   \n",
       "std     24.904600   70.191330   27.279200   27.377862   34.083035   47.434934   \n",
       "min    -51.796300 -135.000000    0.000000    0.000000    0.000000    0.000000   \n",
       "25%      6.677575  -15.277675    0.000000    0.000000    0.000000    0.000000   \n",
       "50%     22.820850   20.921188    0.000000    0.000000    0.000000    0.000000   \n",
       "75%     41.143200   77.913685    0.000000    0.000000    0.000000    0.000000   \n",
       "max     71.706900  178.065000  444.000000  444.000000  549.000000  761.000000   \n",
       "\n",
       "           1/26/20      1/27/20      1/28/20      1/29/20  ...        7/5/20  \\\n",
       "count   266.000000   266.000000   266.000000   266.000000  ...  2.660000e+02   \n",
       "mean      7.962406    11.003759    20.969925    23.180451  ...  4.305337e+04   \n",
       "std      66.289178    89.313757   219.187744   220.524977  ...  2.152661e+05   \n",
       "min       0.000000     0.000000     0.000000     0.000000  ...  0.000000e+00   \n",
       "25%       0.000000     0.000000     0.000000     0.000000  ...  2.045000e+02   \n",
       "50%       0.000000     0.000000     0.000000     0.000000  ...  1.232000e+03   \n",
       "75%       0.000000     0.000000     0.000000     0.000000  ...  1.207925e+04   \n",
       "max    1058.000000  1423.000000  3554.000000  3554.000000  ...  2.891124e+06   \n",
       "\n",
       "             7/6/20        7/7/20        7/8/20        7/9/20       7/10/20  \\\n",
       "count  2.660000e+02  2.660000e+02  2.660000e+02  2.660000e+02  2.660000e+02   \n",
       "mean   4.368457e+04  4.447219e+04  4.526872e+04  4.612225e+04  4.698672e+04   \n",
       "std    2.185190e+05  2.232169e+05  2.278585e+05  2.327247e+05  2.378347e+05   \n",
       "min    0.000000e+00  0.000000e+00  0.000000e+00  0.000000e+00  0.000000e+00   \n",
       "25%    2.045000e+02  2.045000e+02  2.045000e+02  2.075000e+02  2.075000e+02   \n",
       "50%    1.234000e+03  1.237000e+03  1.268500e+03  1.280500e+03  1.280500e+03   \n",
       "75%    1.216600e+04  1.231225e+04  1.248650e+04  1.262450e+04  1.272250e+04   \n",
       "max    2.936077e+06  2.996098e+06  3.054699e+06  3.117946e+06  3.184573e+06   \n",
       "\n",
       "            7/11/20       7/12/20       7/13/20       7/14/20  \n",
       "count  2.660000e+02  2.660000e+02  2.660000e+02  2.660000e+02  \n",
       "mean   4.781168e+04  4.853518e+04  4.926463e+04  5.008846e+04  \n",
       "std    2.425360e+05  2.467222e+05  2.508038e+05  2.559022e+05  \n",
       "min    0.000000e+00  0.000000e+00  0.000000e+00  0.000000e+00  \n",
       "25%    2.092500e+02  2.285000e+02  2.347500e+02  2.362500e+02  \n",
       "50%    1.344500e+03  1.364500e+03  1.383500e+03  1.425000e+03  \n",
       "75%    1.283775e+04  1.298425e+04  1.318775e+04  1.327100e+04  \n",
       "max    3.245925e+06  3.304942e+06  3.364157e+06  3.431574e+06  \n",
       "\n",
       "[8 rows x 177 columns]"
      ]
     },
     "execution_count": 4,
     "metadata": {},
     "output_type": "execute_result"
    }
   ],
   "source": [
    "data.describe() #describing the data\n"
   ]
  },
  {
   "cell_type": "markdown",
   "metadata": {},
   "source": [
    "This data describes about first four columns in data.head() are not needed as represents state, country, Latitude and Longitude which are unnecessary for our data analysis."
   ]
  },
  {
   "cell_type": "code",
   "execution_count": 5,
   "metadata": {},
   "outputs": [
    {
     "data": {
      "text/html": [
       "<div>\n",
       "<style scoped>\n",
       "    .dataframe tbody tr th:only-of-type {\n",
       "        vertical-align: middle;\n",
       "    }\n",
       "\n",
       "    .dataframe tbody tr th {\n",
       "        vertical-align: top;\n",
       "    }\n",
       "\n",
       "    .dataframe thead th {\n",
       "        text-align: right;\n",
       "    }\n",
       "</style>\n",
       "<table border=\"1\" class=\"dataframe\">\n",
       "  <thead>\n",
       "    <tr style=\"text-align: right;\">\n",
       "      <th></th>\n",
       "      <th>Province/State</th>\n",
       "      <th>Country/Region</th>\n",
       "      <th>Lat</th>\n",
       "      <th>Long</th>\n",
       "      <th>1/22/20</th>\n",
       "      <th>1/23/20</th>\n",
       "      <th>1/24/20</th>\n",
       "      <th>1/25/20</th>\n",
       "      <th>1/26/20</th>\n",
       "      <th>1/27/20</th>\n",
       "      <th>...</th>\n",
       "      <th>7/5/20</th>\n",
       "      <th>7/6/20</th>\n",
       "      <th>7/7/20</th>\n",
       "      <th>7/8/20</th>\n",
       "      <th>7/9/20</th>\n",
       "      <th>7/10/20</th>\n",
       "      <th>7/11/20</th>\n",
       "      <th>7/12/20</th>\n",
       "      <th>7/13/20</th>\n",
       "      <th>7/14/20</th>\n",
       "    </tr>\n",
       "  </thead>\n",
       "  <tbody>\n",
       "    <tr>\n",
       "      <th>0</th>\n",
       "      <td>NaN</td>\n",
       "      <td>Afghanistan</td>\n",
       "      <td>33.93911</td>\n",
       "      <td>67.709953</td>\n",
       "      <td>0</td>\n",
       "      <td>0</td>\n",
       "      <td>0</td>\n",
       "      <td>0</td>\n",
       "      <td>0</td>\n",
       "      <td>0</td>\n",
       "      <td>...</td>\n",
       "      <td>32951</td>\n",
       "      <td>33190</td>\n",
       "      <td>33384</td>\n",
       "      <td>33594</td>\n",
       "      <td>33908</td>\n",
       "      <td>34194</td>\n",
       "      <td>34366</td>\n",
       "      <td>34451</td>\n",
       "      <td>34455</td>\n",
       "      <td>34740</td>\n",
       "    </tr>\n",
       "    <tr>\n",
       "      <th>1</th>\n",
       "      <td>NaN</td>\n",
       "      <td>Albania</td>\n",
       "      <td>41.15330</td>\n",
       "      <td>20.168300</td>\n",
       "      <td>0</td>\n",
       "      <td>0</td>\n",
       "      <td>0</td>\n",
       "      <td>0</td>\n",
       "      <td>0</td>\n",
       "      <td>0</td>\n",
       "      <td>...</td>\n",
       "      <td>2893</td>\n",
       "      <td>2964</td>\n",
       "      <td>3038</td>\n",
       "      <td>3106</td>\n",
       "      <td>3188</td>\n",
       "      <td>3278</td>\n",
       "      <td>3371</td>\n",
       "      <td>3454</td>\n",
       "      <td>3571</td>\n",
       "      <td>3667</td>\n",
       "    </tr>\n",
       "    <tr>\n",
       "      <th>2</th>\n",
       "      <td>NaN</td>\n",
       "      <td>Algeria</td>\n",
       "      <td>28.03390</td>\n",
       "      <td>1.659600</td>\n",
       "      <td>0</td>\n",
       "      <td>0</td>\n",
       "      <td>0</td>\n",
       "      <td>0</td>\n",
       "      <td>0</td>\n",
       "      <td>0</td>\n",
       "      <td>...</td>\n",
       "      <td>15941</td>\n",
       "      <td>16404</td>\n",
       "      <td>16879</td>\n",
       "      <td>17348</td>\n",
       "      <td>17808</td>\n",
       "      <td>18242</td>\n",
       "      <td>18712</td>\n",
       "      <td>19195</td>\n",
       "      <td>19689</td>\n",
       "      <td>20216</td>\n",
       "    </tr>\n",
       "    <tr>\n",
       "      <th>3</th>\n",
       "      <td>NaN</td>\n",
       "      <td>Andorra</td>\n",
       "      <td>42.50630</td>\n",
       "      <td>1.521800</td>\n",
       "      <td>0</td>\n",
       "      <td>0</td>\n",
       "      <td>0</td>\n",
       "      <td>0</td>\n",
       "      <td>0</td>\n",
       "      <td>0</td>\n",
       "      <td>...</td>\n",
       "      <td>855</td>\n",
       "      <td>855</td>\n",
       "      <td>855</td>\n",
       "      <td>855</td>\n",
       "      <td>855</td>\n",
       "      <td>855</td>\n",
       "      <td>855</td>\n",
       "      <td>855</td>\n",
       "      <td>858</td>\n",
       "      <td>861</td>\n",
       "    </tr>\n",
       "    <tr>\n",
       "      <th>4</th>\n",
       "      <td>NaN</td>\n",
       "      <td>Angola</td>\n",
       "      <td>-11.20270</td>\n",
       "      <td>17.873900</td>\n",
       "      <td>0</td>\n",
       "      <td>0</td>\n",
       "      <td>0</td>\n",
       "      <td>0</td>\n",
       "      <td>0</td>\n",
       "      <td>0</td>\n",
       "      <td>...</td>\n",
       "      <td>346</td>\n",
       "      <td>346</td>\n",
       "      <td>386</td>\n",
       "      <td>386</td>\n",
       "      <td>396</td>\n",
       "      <td>458</td>\n",
       "      <td>462</td>\n",
       "      <td>506</td>\n",
       "      <td>525</td>\n",
       "      <td>541</td>\n",
       "    </tr>\n",
       "  </tbody>\n",
       "</table>\n",
       "<p>5 rows × 179 columns</p>\n",
       "</div>"
      ],
      "text/plain": [
       "  Province/State Country/Region       Lat       Long  1/22/20  1/23/20  \\\n",
       "0            NaN    Afghanistan  33.93911  67.709953        0        0   \n",
       "1            NaN        Albania  41.15330  20.168300        0        0   \n",
       "2            NaN        Algeria  28.03390   1.659600        0        0   \n",
       "3            NaN        Andorra  42.50630   1.521800        0        0   \n",
       "4            NaN         Angola -11.20270  17.873900        0        0   \n",
       "\n",
       "   1/24/20  1/25/20  1/26/20  1/27/20  ...  7/5/20  7/6/20  7/7/20  7/8/20  \\\n",
       "0        0        0        0        0  ...   32951   33190   33384   33594   \n",
       "1        0        0        0        0  ...    2893    2964    3038    3106   \n",
       "2        0        0        0        0  ...   15941   16404   16879   17348   \n",
       "3        0        0        0        0  ...     855     855     855     855   \n",
       "4        0        0        0        0  ...     346     346     386     386   \n",
       "\n",
       "   7/9/20  7/10/20  7/11/20  7/12/20  7/13/20  7/14/20  \n",
       "0   33908    34194    34366    34451    34455    34740  \n",
       "1    3188     3278     3371     3454     3571     3667  \n",
       "2   17808    18242    18712    19195    19689    20216  \n",
       "3     855      855      855      855      858      861  \n",
       "4     396      458      462      506      525      541  \n",
       "\n",
       "[5 rows x 179 columns]"
      ]
     },
     "execution_count": 5,
     "metadata": {},
     "output_type": "execute_result"
    }
   ],
   "source": [
    "data.head()"
   ]
  },
  {
   "cell_type": "markdown",
   "metadata": {},
   "source": [
    "## Preprocessing the Data\n",
    "Here the useless columns are removed from data and defined to required columns."
   ]
  },
  {
   "cell_type": "code",
   "execution_count": 6,
   "metadata": {},
   "outputs": [
    {
     "data": {
      "text/html": [
       "<div>\n",
       "<style scoped>\n",
       "    .dataframe tbody tr th:only-of-type {\n",
       "        vertical-align: middle;\n",
       "    }\n",
       "\n",
       "    .dataframe tbody tr th {\n",
       "        vertical-align: top;\n",
       "    }\n",
       "\n",
       "    .dataframe thead th {\n",
       "        text-align: right;\n",
       "    }\n",
       "</style>\n",
       "<table border=\"1\" class=\"dataframe\">\n",
       "  <thead>\n",
       "    <tr style=\"text-align: right;\">\n",
       "      <th></th>\n",
       "      <th>1/22/20</th>\n",
       "      <th>1/23/20</th>\n",
       "      <th>1/24/20</th>\n",
       "      <th>1/25/20</th>\n",
       "      <th>1/26/20</th>\n",
       "      <th>1/27/20</th>\n",
       "      <th>1/28/20</th>\n",
       "      <th>1/29/20</th>\n",
       "      <th>1/30/20</th>\n",
       "      <th>1/31/20</th>\n",
       "      <th>...</th>\n",
       "      <th>7/5/20</th>\n",
       "      <th>7/6/20</th>\n",
       "      <th>7/7/20</th>\n",
       "      <th>7/8/20</th>\n",
       "      <th>7/9/20</th>\n",
       "      <th>7/10/20</th>\n",
       "      <th>7/11/20</th>\n",
       "      <th>7/12/20</th>\n",
       "      <th>7/13/20</th>\n",
       "      <th>7/14/20</th>\n",
       "    </tr>\n",
       "  </thead>\n",
       "  <tbody>\n",
       "    <tr>\n",
       "      <th>0</th>\n",
       "      <td>0</td>\n",
       "      <td>0</td>\n",
       "      <td>0</td>\n",
       "      <td>0</td>\n",
       "      <td>0</td>\n",
       "      <td>0</td>\n",
       "      <td>0</td>\n",
       "      <td>0</td>\n",
       "      <td>0</td>\n",
       "      <td>0</td>\n",
       "      <td>...</td>\n",
       "      <td>32951</td>\n",
       "      <td>33190</td>\n",
       "      <td>33384</td>\n",
       "      <td>33594</td>\n",
       "      <td>33908</td>\n",
       "      <td>34194</td>\n",
       "      <td>34366</td>\n",
       "      <td>34451</td>\n",
       "      <td>34455</td>\n",
       "      <td>34740</td>\n",
       "    </tr>\n",
       "    <tr>\n",
       "      <th>1</th>\n",
       "      <td>0</td>\n",
       "      <td>0</td>\n",
       "      <td>0</td>\n",
       "      <td>0</td>\n",
       "      <td>0</td>\n",
       "      <td>0</td>\n",
       "      <td>0</td>\n",
       "      <td>0</td>\n",
       "      <td>0</td>\n",
       "      <td>0</td>\n",
       "      <td>...</td>\n",
       "      <td>2893</td>\n",
       "      <td>2964</td>\n",
       "      <td>3038</td>\n",
       "      <td>3106</td>\n",
       "      <td>3188</td>\n",
       "      <td>3278</td>\n",
       "      <td>3371</td>\n",
       "      <td>3454</td>\n",
       "      <td>3571</td>\n",
       "      <td>3667</td>\n",
       "    </tr>\n",
       "    <tr>\n",
       "      <th>2</th>\n",
       "      <td>0</td>\n",
       "      <td>0</td>\n",
       "      <td>0</td>\n",
       "      <td>0</td>\n",
       "      <td>0</td>\n",
       "      <td>0</td>\n",
       "      <td>0</td>\n",
       "      <td>0</td>\n",
       "      <td>0</td>\n",
       "      <td>0</td>\n",
       "      <td>...</td>\n",
       "      <td>15941</td>\n",
       "      <td>16404</td>\n",
       "      <td>16879</td>\n",
       "      <td>17348</td>\n",
       "      <td>17808</td>\n",
       "      <td>18242</td>\n",
       "      <td>18712</td>\n",
       "      <td>19195</td>\n",
       "      <td>19689</td>\n",
       "      <td>20216</td>\n",
       "    </tr>\n",
       "    <tr>\n",
       "      <th>3</th>\n",
       "      <td>0</td>\n",
       "      <td>0</td>\n",
       "      <td>0</td>\n",
       "      <td>0</td>\n",
       "      <td>0</td>\n",
       "      <td>0</td>\n",
       "      <td>0</td>\n",
       "      <td>0</td>\n",
       "      <td>0</td>\n",
       "      <td>0</td>\n",
       "      <td>...</td>\n",
       "      <td>855</td>\n",
       "      <td>855</td>\n",
       "      <td>855</td>\n",
       "      <td>855</td>\n",
       "      <td>855</td>\n",
       "      <td>855</td>\n",
       "      <td>855</td>\n",
       "      <td>855</td>\n",
       "      <td>858</td>\n",
       "      <td>861</td>\n",
       "    </tr>\n",
       "    <tr>\n",
       "      <th>4</th>\n",
       "      <td>0</td>\n",
       "      <td>0</td>\n",
       "      <td>0</td>\n",
       "      <td>0</td>\n",
       "      <td>0</td>\n",
       "      <td>0</td>\n",
       "      <td>0</td>\n",
       "      <td>0</td>\n",
       "      <td>0</td>\n",
       "      <td>0</td>\n",
       "      <td>...</td>\n",
       "      <td>346</td>\n",
       "      <td>346</td>\n",
       "      <td>386</td>\n",
       "      <td>386</td>\n",
       "      <td>396</td>\n",
       "      <td>458</td>\n",
       "      <td>462</td>\n",
       "      <td>506</td>\n",
       "      <td>525</td>\n",
       "      <td>541</td>\n",
       "    </tr>\n",
       "  </tbody>\n",
       "</table>\n",
       "<p>5 rows × 175 columns</p>\n",
       "</div>"
      ],
      "text/plain": [
       "   1/22/20  1/23/20  1/24/20  1/25/20  1/26/20  1/27/20  1/28/20  1/29/20  \\\n",
       "0        0        0        0        0        0        0        0        0   \n",
       "1        0        0        0        0        0        0        0        0   \n",
       "2        0        0        0        0        0        0        0        0   \n",
       "3        0        0        0        0        0        0        0        0   \n",
       "4        0        0        0        0        0        0        0        0   \n",
       "\n",
       "   1/30/20  1/31/20  ...  7/5/20  7/6/20  7/7/20  7/8/20  7/9/20  7/10/20  \\\n",
       "0        0        0  ...   32951   33190   33384   33594   33908    34194   \n",
       "1        0        0  ...    2893    2964    3038    3106    3188     3278   \n",
       "2        0        0  ...   15941   16404   16879   17348   17808    18242   \n",
       "3        0        0  ...     855     855     855     855     855      855   \n",
       "4        0        0  ...     346     346     386     386     396      458   \n",
       "\n",
       "   7/11/20  7/12/20  7/13/20  7/14/20  \n",
       "0    34366    34451    34455    34740  \n",
       "1     3371     3454     3571     3667  \n",
       "2    18712    19195    19689    20216  \n",
       "3      855      855      858      861  \n",
       "4      462      506      525      541  \n",
       "\n",
       "[5 rows x 175 columns]"
      ]
     },
     "execution_count": 6,
     "metadata": {},
     "output_type": "execute_result"
    }
   ],
   "source": [
    "df = data.iloc[:,4:]\n",
    "df.head()"
   ]
  },
  {
   "cell_type": "code",
   "execution_count": 7,
   "metadata": {},
   "outputs": [
    {
     "data": {
      "text/plain": [
       "(266, 175)"
      ]
     },
     "execution_count": 7,
     "metadata": {},
     "output_type": "execute_result"
    }
   ],
   "source": [
    "df.shape"
   ]
  },
  {
   "cell_type": "markdown",
   "metadata": {},
   "source": [
    "Data to be summed up as global cases confirmed per day. As it necessary to know the increment so the current - previous difference is done.\n"
   ]
  },
  {
   "cell_type": "code",
   "execution_count": 8,
   "metadata": {},
   "outputs": [
    {
     "name": "stdout",
     "output_type": "stream",
     "text": [
      "1/22/20 555\n",
      "1/23/20 654\n",
      "increment cases 99\n"
     ]
    },
    {
     "data": {
      "text/plain": [
       "1/22/20    555\n",
       "1/23/20     99\n",
       "1/24/20    287\n",
       "1/25/20    493\n",
       "1/26/20    684\n",
       "dtype: int64"
      ]
     },
     "execution_count": 8,
     "metadata": {},
     "output_type": "execute_result"
    }
   ],
   "source": [
    "# evaluate cases to increase\n",
    "daily_data = df.sum(axis=0)\n",
    "print('1/22/20',daily_data[0])\n",
    "print('1/23/20',daily_data[1])\n",
    "print('increment cases',daily_data[1]-daily_data[0])\n",
    "\n",
    "daily_data = daily_data.diff().fillna(daily_data[0]).astype(np.int64)\n",
    "daily_data.head()"
   ]
  },
  {
   "cell_type": "markdown",
   "metadata": {},
   "source": [
    "Now the main task is to split the data into sequences and increase the data accumulation through scaling between 0and 1 using minimaxscaler."
   ]
  },
  {
   "cell_type": "code",
   "execution_count": 9,
   "metadata": {},
   "outputs": [
    {
     "data": {
      "text/plain": [
       "1/22/20    555\n",
       "1/23/20     99\n",
       "dtype: int64"
      ]
     },
     "execution_count": 9,
     "metadata": {},
     "output_type": "execute_result"
    }
   ],
   "source": [
    "#It is better to view the data available shape and format.\n",
    "daily_data.shape,\n",
    "daily_data[:2]"
   ]
  },
  {
   "cell_type": "code",
   "execution_count": 10,
   "metadata": {},
   "outputs": [
    {
     "data": {
      "text/plain": [
       "(175, 1)"
      ]
     },
     "execution_count": 10,
     "metadata": {},
     "output_type": "execute_result"
    }
   ],
   "source": [
    "mm_scaler = MinMaxScaler() #to evaluate oor normalize the values between 0 and 1\n",
    "mm_scaler = mm_scaler.fit(np.expand_dims(daily_data, axis=1))\n",
    "total_data = mm_scaler.transform(np.expand_dims(daily_data, axis=1))\n",
    "total_data.shape"
   ]
  },
  {
   "cell_type": "markdown",
   "metadata": {},
   "source": [
    "## Split the data into sequences"
   ]
  },
  {
   "cell_type": "code",
   "execution_count": 11,
   "metadata": {},
   "outputs": [],
   "source": [
    "#These created train and test data should be split the sequence into input and output values depending on sequence length\n",
    "def split_sequences(sequences_data,sequence_length):\n",
    "    X,y = list(),list()\n",
    "    for i in range(len(sequences_data)-sequence_length-1):\n",
    "        # find the end of this pattern\n",
    "        end_ix = i + sequence_length\n",
    "        #gather input and output parts of the pattern\n",
    "        seq_x, seq_y = sequences_data[i:(end_ix)],sequences_data[end_ix]\n",
    "        X.append(seq_x)\n",
    "        y.append(seq_y)\n",
    "    return np.array(X), np.array(y)\n"
   ]
  },
  {
   "cell_type": "code",
   "execution_count": 12,
   "metadata": {},
   "outputs": [],
   "source": [
    "#sequence_length = 5 #previous notes of data can be remembered as 5 values\n",
    "X, y = split_sequences(sequences_data=total_data, sequence_length=5)"
   ]
  },
  {
   "cell_type": "code",
   "execution_count": 13,
   "metadata": {},
   "outputs": [],
   "source": [
    "#convert the data into torch.tensor from numpy array\n",
    "device = 'cuda' if torch.cuda.is_available() else 'cpu'\n",
    "X = torch.from_numpy(X).float().to(device)\n",
    "y = torch.from_numpy(y).float().to(device)"
   ]
  },
  {
   "cell_type": "code",
   "execution_count": 14,
   "metadata": {},
   "outputs": [
    {
     "data": {
      "text/plain": [
       "(tensor([[[0.0020],\n",
       "          [0.0000],\n",
       "          [0.0008],\n",
       "          [0.0017],\n",
       "          [0.0025]],\n",
       " \n",
       "         [[0.0000],\n",
       "          [0.0008],\n",
       "          [0.0017],\n",
       "          [0.0025],\n",
       "          [0.0031]]], device='cuda:0'),\n",
       " 'torch.cuda.FloatTensor',\n",
       " torch.Size([169, 5, 1]))"
      ]
     },
     "execution_count": 14,
     "metadata": {},
     "output_type": "execute_result"
    }
   ],
   "source": [
    "X[:2],X.type(),X.shape"
   ]
  },
  {
   "cell_type": "code",
   "execution_count": 15,
   "metadata": {},
   "outputs": [
    {
     "data": {
      "text/plain": [
       "(tensor([[0.0031],\n",
       "         [0.0111]], device='cuda:0'),\n",
       " 'torch.cuda.FloatTensor',\n",
       " torch.Size([169, 1]))"
      ]
     },
     "execution_count": 15,
     "metadata": {},
     "output_type": "execute_result"
    }
   ],
   "source": [
    "y[:2],y.type(),y.shape"
   ]
  },
  {
   "cell_type": "markdown",
   "metadata": {},
   "source": [
    "## Build LSTM Network for Future Prediction\n"
   ]
  },
  {
   "cell_type": "code",
   "execution_count": 16,
   "metadata": {},
   "outputs": [],
   "source": [
    "class FutureDataPrediction(nn.Module):\n",
    "    def __init__(self, feature_size, hidden_layer, seq_len,layers=2):\n",
    "        super(FutureDataPrediction, self).__init__()\n",
    "        self.hidden_layer = hidden_layer\n",
    "        self.seq_len = seq_len\n",
    "        self.layers = layers\n",
    "        \n",
    "        self.lstm = nn.LSTM(input_size=feature_size,hidden_size=hidden_layer,num_layers=layers,dropout=0.5)\n",
    "        self.linear = nn.Linear(in_features=hidden_layer, out_features=1)\n",
    "    \n",
    "    def reset_hidden_state(self):\n",
    "        self.hidden = (\n",
    "            torch.zeros(self.layers, self.seq_len, self.hidden_layer).to(device),\n",
    "            torch.zeros(self.layers, self.seq_len, self.hidden_layer).to(device))\n",
    "    \n",
    "    def forward(self, data):\n",
    "        lstm, self.hidden = self.lstm(data.view(len(data), self.seq_len, -1),self.hidden)\n",
    "        previous_time_step = lstm.view(self.seq_len, len(data), self.hidden_layer)[-1]\n",
    "        out = self.linear(previous_time_step)\n",
    "        return out\n",
    "   "
   ]
  },
  {
   "cell_type": "markdown",
   "metadata": {},
   "source": [
    "Initialise the data layers for the LSTM, sequence length, hidden and feature size.\n",
    "As it is require to reset the state after every epoch of turn to analyse again the data as clear.\n",
    "Get the data of last time step that is required and sent to linear layer to forecast the future."
   ]
  },
  {
   "cell_type": "code",
   "execution_count": 17,
   "metadata": {},
   "outputs": [],
   "source": [
    "#initialise modelparameters\n",
    "model = FutureDataPrediction(\n",
    "    feature_size=1,\n",
    "    hidden_layer=512,\n",
    "    seq_len=5,\n",
    "    layers=2)\n",
    "criterion = torch.nn.MSELoss(reduction='mean')\n",
    "optimizer = torch.optim.Adam(model.parameters(), lr=1e-3)"
   ]
  },
  {
   "cell_type": "code",
   "execution_count": 18,
   "metadata": {},
   "outputs": [
    {
     "data": {
      "text/plain": [
       "FutureDataPrediction(\n",
       "  (lstm): LSTM(1, 512, num_layers=2, dropout=0.5)\n",
       "  (linear): Linear(in_features=512, out_features=1, bias=True)\n",
       ")"
      ]
     },
     "execution_count": 18,
     "metadata": {},
     "output_type": "execute_result"
    }
   ],
   "source": [
    "model = model.to(device)\n",
    "model"
   ]
  },
  {
   "cell_type": "markdown",
   "metadata": {},
   "source": [
    "## Train with all available data. (as the data is less)"
   ]
  },
  {
   "cell_type": "code",
   "execution_count": 19,
   "metadata": {},
   "outputs": [],
   "source": [
    "def training(model,X_train,y_train,n_epochs):\n",
    "    model.train()\n",
    "    train_losses = []\n",
    "    \n",
    "    for epoch in range(n_epochs):\n",
    "        X_train, y_train = X_train.to(device), y_train.to(device)\n",
    "        model.reset_hidden_state()\n",
    "        optimizer.zero_grad() #the state has to be initialise to the start position after an epoch start.\n",
    "        y_pred = model(X_train)\n",
    "        loss = criterion(y_pred.float(), y_train) #attain loss to update weights.\n",
    "        train_losses.append(loss.item())\n",
    "        \n",
    "        if epoch % 10 == 0:\n",
    "            print(f'Epoch {epoch} train loss: {loss.item()}')\n",
    "            \n",
    "        loss.backward()\n",
    "        optimizer.step()\n",
    "    return train_losses\n"
   ]
  },
  {
   "cell_type": "code",
   "execution_count": 20,
   "metadata": {},
   "outputs": [
    {
     "name": "stdout",
     "output_type": "stream",
     "text": [
      "Epoch 0 train loss: 0.2232067883014679\n",
      "Epoch 10 train loss: 0.08964323252439499\n",
      "Epoch 20 train loss: 0.06445911526679993\n",
      "Epoch 30 train loss: 0.04576695337891579\n",
      "Epoch 40 train loss: 0.14062227308750153\n",
      "Epoch 50 train loss: 0.0810067355632782\n",
      "Epoch 60 train loss: 0.07412895560264587\n",
      "Epoch 70 train loss: 0.07173547893762589\n",
      "Epoch 80 train loss: 0.06560418009757996\n",
      "Epoch 90 train loss: 0.04585525766015053\n",
      "Epoch 100 train loss: 0.11017676442861557\n",
      "Epoch 110 train loss: 0.06146484240889549\n",
      "Epoch 120 train loss: 0.05815788358449936\n",
      "Epoch 130 train loss: 0.052061036229133606\n",
      "Epoch 140 train loss: 0.030012130737304688\n",
      "Epoch 150 train loss: 0.010778330266475677\n",
      "Epoch 160 train loss: 0.00843070074915886\n",
      "Epoch 170 train loss: 0.006147610489279032\n",
      "Epoch 180 train loss: 0.0063231526874005795\n",
      "Epoch 190 train loss: 0.005116498563438654\n",
      "Epoch 200 train loss: 0.005807992536574602\n",
      "Epoch 210 train loss: 0.005370406899601221\n",
      "Epoch 220 train loss: 0.004553329199552536\n",
      "Epoch 230 train loss: 0.005280316807329655\n",
      "Epoch 240 train loss: 0.004977803211659193\n",
      "Epoch 250 train loss: 0.004910006187856197\n",
      "Epoch 260 train loss: 0.0048112343065440655\n",
      "Epoch 270 train loss: 0.004738427232950926\n",
      "Epoch 280 train loss: 0.004359000828117132\n",
      "Epoch 290 train loss: 0.004387894179672003\n",
      "Epoch 300 train loss: 0.004296590574085712\n",
      "Epoch 310 train loss: 0.004431972745805979\n",
      "Epoch 320 train loss: 0.004376218654215336\n",
      "Epoch 330 train loss: 0.004937389865517616\n",
      "Epoch 340 train loss: 0.004412124399095774\n",
      "Epoch 350 train loss: 0.004630771465599537\n",
      "Epoch 360 train loss: 0.004480380564928055\n",
      "Epoch 370 train loss: 0.004040912259370089\n",
      "Epoch 380 train loss: 0.004667720757424831\n",
      "Epoch 390 train loss: 0.0036438279785215855\n"
     ]
    }
   ],
   "source": [
    "train_losses = training(model,X,y,n_epochs=400)"
   ]
  },
  {
   "cell_type": "markdown",
   "metadata": {},
   "source": [
    "## Plot the loss graph in training"
   ]
  },
  {
   "cell_type": "code",
   "execution_count": 21,
   "metadata": {},
   "outputs": [
    {
     "data": {
      "image/png": "[encoded data removed]",
      "text/plain": [
       "<Figure size 576x432 with 1 Axes>"
      ]
     },
     "metadata": {
      "needs_background": "light"
     },
     "output_type": "display_data"
    }
   ],
   "source": [
    "plt.figure(figsize=(8,6))\n",
    "plt.plot(train_losses, label='Training')    \n",
    "plt.title(\"loss vs epoch\",fontsize=20)\n",
    "plt.xlabel(\"epoch\",fontsize=15)\n",
    "plt.ylabel(\"loss\",fontsize=15)\n",
    "plt.legend(fontsize=15)\n",
    "plt.show()"
   ]
  },
  {
   "cell_type": "code",
   "execution_count": 22,
   "metadata": {},
   "outputs": [
    {
     "data": {
      "text/plain": [
       "torch.Size([169, 5, 1])"
      ]
     },
     "execution_count": 22,
     "metadata": {},
     "output_type": "execute_result"
    }
   ],
   "source": [
    "X.shape"
   ]
  },
  {
   "cell_type": "markdown",
   "metadata": {},
   "source": [
    "The spikes in the loss may be due to the irregular of data wih daily increase or decrease of incoming confirmed cases but anyways loss is decreasing."
   ]
  },
  {
   "cell_type": "markdown",
   "metadata": {},
   "source": [
    "## Test data as the aim to predict the future confirm cases"
   ]
  },
  {
   "cell_type": "code",
   "execution_count": 39,
   "metadata": {},
   "outputs": [],
   "source": [
    "def testing(model,X,predict_days,sequence_length):\n",
    "    model.eval()\n",
    "    \n",
    "    with torch.no_grad():\n",
    "        test_sequence = X[:1] #to send the last data of X as input to network to predict future\n",
    "        predicts = []\n",
    "\n",
    "        for _ in range(predict_days):\n",
    "            y_pred = model(test_sequence)\n",
    "            predict = torch.flatten(-y_pred).item() #flatten the values \n",
    "            predicts.append(predict)\n",
    "            \n",
    "            test_seq = test_sequence.detach().cpu().numpy().flatten() #flatten old sequence to connect with new sequence\n",
    "            test_seq = np.append(test_seq, [predict]) #obtain new predicted as sequence\n",
    "            test_seq = test_seq[1:] #to perform last values\n",
    "            testing_seq = torch.as_tensor(test_seq).view(1, sequence_length, 1).float()\n",
    "    return predicts"
   ]
  },
  {
   "cell_type": "code",
   "execution_count": 40,
   "metadata": {},
   "outputs": [
    {
     "data": {
      "text/plain": [
       "[0.6835804581642151,\n",
       " 0.9462120532989502,\n",
       " 1.1562316417694092,\n",
       " 1.2585315704345703,\n",
       " 1.2096171379089355,\n",
       " 1.007826566696167,\n",
       " 0.7141425609588623,\n",
       " 0.42293787002563477,\n",
       " 0.20397046208381653,\n",
       " 0.08401327580213547,\n",
       " 0.06515900790691376,\n",
       " 0.1403152346611023,\n",
       " 0.2960215210914612,\n",
       " 0.5099368095397949,\n",
       " 0.7498297691345215,\n",
       " 0.9747105240821838,\n",
       " 1.137184977531433,\n",
       " 1.190632700920105,\n",
       " 1.1068859100341797,\n",
       " 0.900669276714325,\n",
       " 0.6354072093963623,\n",
       " 0.389303982257843,\n",
       " 0.21438267827033997,\n",
       " 0.12988857924938202,\n",
       " 0.13663384318351746,\n",
       " 0.22688834369182587,\n",
       " 0.38567644357681274,\n",
       " 0.5893024802207947,\n",
       " 0.8053167462348938,\n",
       " 0.9940699934959412]"
      ]
     },
     "execution_count": 40,
     "metadata": {},
     "output_type": "execute_result"
    }
   ],
   "source": [
    "predict_days = 30 #next months data cases can be an estimated confirm\n",
    "predict_cases = testing(model,X,predict_days,sequence_length = 5) #same sequence_length from before data split\n",
    "predict_cases"
   ]
  },
  {
   "cell_type": "code",
   "execution_count": 41,
   "metadata": {},
   "outputs": [],
   "source": [
    "#reverse values from 0 to 1 by minmaxscaler to original values\n",
    "future_cases = mm_scaler.inverse_transform(np.expand_dims(predict_cases, axis=0)).flatten() \n",
    "predict_index = pd.date_range(\n",
    "                  start=daily_data.index[-1],\n",
    "                  periods=predict_days + 1,\n",
    "                  closed='right')\n",
    "future_cases = pd.Series(\n",
    "                  data=future_cases,\n",
    "                  index=predict_index) #future cases that are generated approximately by model\n"
   ]
  },
  {
   "cell_type": "code",
   "execution_count": 42,
   "metadata": {},
   "outputs": [],
   "source": [
    "#attaining previous cases in same date time format\n",
    "previous_index = pd.date_range(\n",
    "                  start=daily_data.index[0],\n",
    "                  periods=len(daily_data))\n",
    "previous_cases = pd.Series(\n",
    "                  data=daily_data,\n",
    "                  index=previous_index)"
   ]
  },
  {
   "cell_type": "code",
   "execution_count": 43,
   "metadata": {},
   "outputs": [
    {
     "data": {
      "text/plain": [
       "2020-01-22       555\n",
       "2020-01-23        99\n",
       "2020-01-24       287\n",
       "2020-01-25       493\n",
       "2020-01-26       684\n",
       "               ...  \n",
       "2020-07-10    229949\n",
       "2020-07-11    219441\n",
       "2020-07-12    192449\n",
       "2020-07-13    194034\n",
       "2020-07-14    219139\n",
       "Freq: D, Length: 175, dtype: int64"
      ]
     },
     "execution_count": 43,
     "metadata": {},
     "output_type": "execute_result"
    }
   ],
   "source": [
    "previous_cases"
   ]
  },
  {
   "cell_type": "code",
   "execution_count": 44,
   "metadata": {},
   "outputs": [
    {
     "data": {
      "text/plain": [
       "2020-07-15    157219.968309\n",
       "2020-07-16    217585.840451\n",
       "2020-07-17    265858.842861\n",
       "2020-07-18    289372.481464\n",
       "2020-07-19    278129.499148\n",
       "2020-07-20    231747.936355\n",
       "2020-07-21    164244.667636\n",
       "2020-07-22     97311.269425\n",
       "2020-07-23     46981.610710\n",
       "2020-07-24     19409.451443\n",
       "2020-07-25     15075.797967\n",
       "2020-07-26     32350.456687\n",
       "2020-07-27     68139.546623\n",
       "2020-07-28    117307.975673\n",
       "2020-07-29    172447.372436\n",
       "2020-07-30    224136.213960\n",
       "2020-07-31    261480.967086\n",
       "2020-08-01    273765.926306\n",
       "2020-08-02    254516.726421\n",
       "2020-08-03    207117.833253\n",
       "2020-08-04    146147.347080\n",
       "2020-08-05     89580.520322\n",
       "2020-08-06     49374.858600\n",
       "2020-08-07     29953.889940\n",
       "2020-08-08     31504.288856\n",
       "2020-08-09     52249.285798\n",
       "2020-08-10     88746.730556\n",
       "2020-08-11    135550.175079\n",
       "2020-08-12    185201.054122\n",
       "2020-08-13    228585.988005\n",
       "Freq: D, dtype: float64"
      ]
     },
     "execution_count": 44,
     "metadata": {},
     "output_type": "execute_result"
    }
   ],
   "source": [
    "future_cases"
   ]
  },
  {
   "cell_type": "markdown",
   "metadata": {},
   "source": [
    "## Plot Increment in Previous & Future Covid Confirmed Cases"
   ]
  },
  {
   "cell_type": "code",
   "execution_count": 45,
   "metadata": {},
   "outputs": [
    {
     "data": {
      "text/plain": [
       "<matplotlib.legend.Legend at 0x24a8b25b940>"
      ]
     },
     "execution_count": 45,
     "metadata": {},
     "output_type": "execute_result"
    },
    {
     "data": {
      "image/png": "[encoded data removed]",
      "text/plain": [
       "<Figure size 576x432 with 1 Axes>"
      ]
     },
     "metadata": {
      "needs_background": "light"
     },
     "output_type": "display_data"
    }
   ],
   "source": [
    "plt.figure(figsize=(8,6))\n",
    "plt.plot(previous_cases, label='Previous_cases from 22 Jan 2020 to 14 July 2020')\n",
    "plt.plot(future_cases, label='Next month estimated confirm cases')\n",
    "plt.title(\"Estimated Increase in Confirmed Covid Cases\",fontsize=15)\n",
    "plt.xlabel(\"Dates\",fontsize=10)\n",
    "plt.ylabel(\"Cases_confirmed\",fontsize=10)\n",
    "plt.legend(fontsize=10)"
   ]
  },
  {
   "cell_type": "markdown",
   "metadata": {},
   "source": [
    "### References"
   ]
  },
  {
   "cell_type": "markdown",
   "metadata": {},
   "source": [
    "https://data.humdata.org/dataset/novel-coronavirus-2019-ncov-cases\n",
    "\n",
    "https://www.curiousily.com/posts/time-series-forecasting-with-lstm-for-daily-coronavirus-cases/"
   ]
  }
 ],
 "metadata": {
  "kernelspec": {
   "display_name": "Python 3",
   "language": "python",
   "name": "python3"
  },
  "language_info": {
   "codemirror_mode": {
    "name": "ipython",
    "version": 3
   },
   "file_extension": ".py",
   "mimetype": "text/x-python",
   "name": "python",
   "nbconvert_exporter": "python",
   "pygments_lexer": "ipython3",
   "version": "3.7.0"
  }
 },
 "nbformat": 4,
 "nbformat_minor": 4
}
